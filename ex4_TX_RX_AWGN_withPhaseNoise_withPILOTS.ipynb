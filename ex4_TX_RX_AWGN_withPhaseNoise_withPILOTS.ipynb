{
 "cells": [
  {
   "cell_type": "markdown",
   "metadata": {},
   "source": [
    "# TITLE: Signal Modulation and Detection in an AWGN Channel with Laser Phase Noise and CPE\n",
    "Authors: ...\n",
    "Last update: 15/02/2023"
   ]
  },
  {
   "cell_type": "markdown",
   "metadata": {},
   "source": [
    "## Initialization"
   ]
  },
  {
   "cell_type": "code",
   "execution_count": 1,
   "metadata": {
    "tags": []
   },
   "outputs": [
    {
     "ename": "SyntaxError",
     "evalue": "(unicode error) 'unicodeescape' codec can't decode bytes in position 2-3: truncated \\UXXXXXXXX escape (996262317.py, line 11)",
     "output_type": "error",
     "traceback": [
      "\u001b[1;36m  Cell \u001b[1;32mIn[1], line 11\u001b[1;36m\u001b[0m\n\u001b[1;33m    PyDSP_core_dir = 'C:\\Users\\guiomar\\Desktop\\myGIT\\libraries'\u001b[0m\n\u001b[1;37m                                                               ^\u001b[0m\n\u001b[1;31mSyntaxError\u001b[0m\u001b[1;31m:\u001b[0m (unicode error) 'unicodeescape' codec can't decode bytes in position 2-3: truncated \\UXXXXXXXX escape\n"
     ]
    }
   ],
   "source": [
    "# Python packages\n",
    "import os\n",
    "import sys\n",
    "import math\n",
    "import numpy as np\n",
    "from tabulate import tabulate\n",
    "from scipy.signal import welch\n",
    "import matplotlib.pyplot as plt\n",
    "\n",
    "# Set directory where PyDSP_core library is located:\n",
    "PyDSP_core_dir = 'C:/Users/guiomar/Desktop/myGIT/libraries'\n",
    "sys.path.append(PyDSP_core_dir)\n",
    "\n",
    "# Custom packages\n",
    "from PyDSP_core.TX.Tx_generateBits import Tx_generateBits, nextpow2\n",
    "from PyDSP_core.TX.setSignalParams import setSignalParams\n",
    "from PyDSP_core.TX.pulseShaper import pulseShaper\n",
    "from PyDSP_core.TX.QAM_config import QAM_config\n",
    "from PyDSP_core.TX.Tx_QAM import Tx_QAM\n",
    "from PyDSP_core.TX.laserCW import laserCW\n",
    "from PyDSP_core.TX.Tx_pilots import Tx_addPilots\n",
    "\n",
    "from PyDSP_core.RX.setSNR import setSNR\n",
    "\n",
    "from PyDSP_core.DSP.symDemapper import symDemapper\n",
    "from PyDSP_core.DSP.rxDecision import BER_eval, EVM_eval, MI_eval\n",
    "from PyDSP_core.DSP.LPF_apply import LPF_apply\n",
    "from PyDSP_core.DSP.sync import pilotSymbols_rmv\n",
    "from PyDSP_core.DSP.CPE import carrierPhaseEstimation"
   ]
  },
  {
   "cell_type": "markdown",
   "metadata": {},
   "source": [
    "## Input Parameters"
   ]
  },
  {
   "cell_type": "code",
   "execution_count": null,
   "metadata": {},
   "outputs": [],
   "source": [
    "SIG = {\n",
    "    'M': 16,            #QAM constellation size\n",
    "    'symRate': 60e9,    #total symbol-rate of the signal\n",
    "    'modulation': 'QAM',#modulation type [QAM/PAM]\n",
    "    'rollOff': 0.1,     #roll-off factor\n",
    "    'nPol': 1,          #number of polarizations\n",
    "    'nSyms': pow(2, 18) #total number of simulated symbols\n",
    "}\n",
    "nSpS = 2                #number of samples per symbol\n",
    "laserLW = 1e6           #laser linewidth [Hz]\n",
    "\n",
    "pilotRate = 31/32\n",
    "useCPE2 = True\n",
    "\n",
    "SNR_dB = 17             #SNR in dB"
   ]
  },
  {
   "cell_type": "markdown",
   "metadata": {},
   "source": [
    "## Set Transmitter Parameters"
   ]
  },
  {
   "cell_type": "code",
   "execution_count": null,
   "metadata": {},
   "outputs": [],
   "source": [
    "# Signal Parameters:\n",
    "TX = {'SIG': setSignalParams('symRate', SIG['symRate'], 'M', SIG['M'], 'nPol', SIG['nPol'],\n",
    "                             'nBpS', math.log2(SIG['M']), 'nSyms', SIG['nSyms'],\n",
    "                             'roll-off', SIG['rollOff'], 'modulation', SIG['modulation'])\n",
    "}\n",
    "# Modulation Parameters:\n",
    "TX['QAM'] = QAM_config(TX['SIG'])\n",
    "# Bit Parameters:\n",
    "TX['BIT'] = {'source': 'randi',\n",
    "             'seed': 1\n",
    "}\n",
    "# Pulse Shaping Filter Parameters:\n",
    "TX['PS'] = {'type': 'RRC',\n",
    "            'rollOff': TX['SIG']['rollOff'],\n",
    "            'nTaps': 128\n",
    "}\n",
    "# DAC Parameters:\n",
    "TX['DAC'] = {'RESAMP': {'sampRate':nSpS * TX['SIG']['symRate']}\n",
    "}\n",
    "#Laser Parameters:\n",
    "TX['LASER'] = {\n",
    "    'linewidth': laserLW,\n",
    "}\n",
    "# DSP Pilots Parameters:\n",
    "TX['PILOTS'] = {'active':True,\n",
    "                'rate': pilotRate,\n",
    "#                'option': 'outerQPSK'\n",
    "                'option': 'innerQPSK',\n",
    "#                'option': 'meanQPSK',\n",
    "#                'option': 'customQPSK',\n",
    "                'scaleFactor': 1\n",
    "}"
   ]
  },
  {
   "cell_type": "markdown",
   "metadata": {},
   "source": [
    "## SET DSP Parameters"
   ]
  },
  {
   "cell_type": "code",
   "execution_count": null,
   "metadata": {},
   "outputs": [],
   "source": [
    "#Matched-Filter Parameters:\n",
    "DSP = {'MF':{'type': 'RRC',\n",
    "             'rollOff': TX['SIG']['rollOff']}\n",
    "}\n",
    "\n",
    "#Carrier-Phase Estimation - 1st Stage:\n",
    "DSP['CPE1'] = {\n",
    "    'method': 'pilot-based',\n",
    "    'nTaps': 5,\n",
    "    'PILOTS': TX['PILOTS']\n",
    "}\n",
    "\n",
    "#Carrier-Phase Estimation - 2nd Stage:\n",
    "DSP['CPE2'] = {\n",
    "    'method': 'BPS',\n",
    "    'nTaps': 22,\n",
    "    'nTestPhases': 10,\n",
    "    'angleInterval': np.pi/8\n",
    "}\n",
    "\n",
    "#Demapper:\n",
    "DSP['DEMAPPER'] = {\n",
    "    'normMethod': 'MMSE'\n",
    "}"
   ]
  },
  {
   "cell_type": "markdown",
   "metadata": {},
   "source": [
    "## Generate Tx Bits"
   ]
  },
  {
   "cell_type": "code",
   "execution_count": null,
   "metadata": {},
   "outputs": [],
   "source": [
    "TX['BIT']['txBits'] = Tx_generateBits(SIG['nSyms'], TX['QAM']['M'], TX['QAM']['nPol'], TX['BIT'])"
   ]
  },
  {
   "cell_type": "markdown",
   "metadata": {},
   "source": [
    "## Generate Transmitted Symbols"
   ]
  },
  {
   "cell_type": "code",
   "execution_count": null,
   "metadata": {
    "jupyter": {
     "outputs_hidden": false
    }
   },
   "outputs": [],
   "source": [
    "S = {}\n",
    "S['tx'], TX['BIT']['txSyms'] = Tx_QAM(TX['QAM'], TX['BIT']['txBits'])\n",
    "\n",
    "# Plot Transmitted Constellation Symbols:\n",
    "plt.scatter(S['tx'].real, S['tx'].imag, s=20)\n",
    "plt.title('IQ Constellation of the Transmitted Signal')\n",
    "plt.show()"
   ]
  },
  {
   "cell_type": "markdown",
   "metadata": {},
   "source": [
    "## Add DSP Pilots"
   ]
  },
  {
   "cell_type": "code",
   "execution_count": null,
   "metadata": {},
   "outputs": [],
   "source": [
    "if 'PILOTS' in TX  and TX['PILOTS']['active'] and TX['PILOTS']['rate'] < 1:\n",
    "    S['tx'],TX['PILOTS']['pilotSequence'],TX['PILOTS']['idx'] = Tx_addPilots(S['tx'],TX['PILOTS'],TX['QAM']['IQmap'])\n",
    "    TX['QAM']['meanConstPower'] = np.mean(abs(S['tx'])**2,1)\n",
    "    TX['QAM']['maxConstPower'] = np.amax(abs(S['tx'])**2,1)\n",
    "\n",
    "# Plot Pilot Symbols:\n",
    "plt.scatter(S['tx'].real, S['tx'].imag, s=20)\n",
    "plt.scatter(TX['PILOTS']['pilotSequence'].real,TX['PILOTS']['pilotSequence'].imag, color= 'red', s=20)\n",
    "plt.title('IQ Constellation of the DSP Pilot Symbols')\n",
    "plt.show()"
   ]
  },
  {
   "cell_type": "markdown",
   "metadata": {},
   "source": [
    "## Pulse Shaping"
   ]
  },
  {
   "cell_type": "code",
   "execution_count": null,
   "metadata": {
    "jupyter": {
     "outputs_hidden": false
    }
   },
   "outputs": [],
   "source": [
    "S['txSC'], TX['PS'] = pulseShaper(S['tx'], nSpS, TX['PS'])\n",
    "\n",
    "#Plot Pulse Shaping Taps:\n",
    "plt.plot(TX['PS']['W'])\n",
    "plt.title('Pulse Shaping Taps')\n",
    "plt.show()\n",
    "\n",
    "# Plot Signal Spectrum:\n",
    "# No matlab: pwelch(S.txSC(1,:),1e4,[],[],TX.DAC.RESAMP.sampRate,'centered')\n",
    "#                  (x, window, noverlap, nfft, Fs, freqrange)\n",
    "#\n",
    "# window - If window is an integer, the signal is divided into segments of length window. The modified periodograms are computed using a Hamming window of length window.\n",
    "# noverlap - If you do not specify noverlap, or specify noverlap as empty, the default number of overlapped samples is 50% of the window length.\n",
    "# nfft - The default nfft is the greater of 256 or the next power of 2 greater than the length of the segments.\n",
    "\n",
    "wind = np.hamming(pow(10,4))\n",
    "nov = np.floor(pow(10,4)/2)\n",
    "nff = max(256, pow(2,nextpow2(pow(10,4))))\n",
    "\n",
    "f,Pxx = welch(S['txSC'][0],window = np.hamming(int(1e4)),noverlap=nov,nfft=nff,fs=TX['DAC']['RESAMP']['sampRate'],return_onesided=False ,detrend= False)\n",
    "plt.plot(f,10*np.log10(Pxx))\n",
    "plt.grid()\n",
    "plt.show()"
   ]
  },
  {
   "cell_type": "markdown",
   "metadata": {},
   "source": [
    "## Apply Laser"
   ]
  },
  {
   "cell_type": "code",
   "execution_count": null,
   "metadata": {},
   "outputs": [],
   "source": [
    "Fs_SC = nSpS * SIG['symRate']\n",
    "nSamples = S['tx'].shape[1] * nSpS\n",
    "Scw, TX['LASER'] = laserCW(TX['LASER'],Fs_SC,nSamples)\n",
    "if SIG['nPol'] == 2:\n",
    "    Scw = Scw/np.sqrt(2)\n",
    "for n in range(0, SIG['nPol']):\n",
    "    S['txSC'][n,:] = Scw*S['txSC'][n,:]\n",
    "\n",
    "# Plot Laser Phase Noise\n",
    "plt.plot(TX['LASER']['phaseNoise'],linewidth=0.5)\n",
    "plt.title('Transmitted Laser Phase Noise')\n",
    "plt.show()"
   ]
  },
  {
   "cell_type": "markdown",
   "metadata": {},
   "source": [
    "## Set SNR"
   ]
  },
  {
   "cell_type": "code",
   "execution_count": null,
   "metadata": {
    "jupyter": {
     "outputs_hidden": false
    }
   },
   "outputs": [],
   "source": [
    "S['rx'] = setSNR(S['txSC'], SNR_dB, TX['DAC']['RESAMP']['sampRate'], SIG['symRate'])[0]"
   ]
  },
  {
   "cell_type": "markdown",
   "metadata": {},
   "source": [
    "## Apply Matched Filter"
   ]
  },
  {
   "cell_type": "code",
   "execution_count": null,
   "metadata": {},
   "outputs": [],
   "source": [
    "S['rx'] = LPF_apply(S['rx'],DSP['MF'],TX['DAC']['RESAMP']['sampRate'],SIG['symRate'])[0]"
   ]
  },
  {
   "cell_type": "markdown",
   "metadata": {},
   "source": [
    "## Downsample to 1 Sample/Symbol"
   ]
  },
  {
   "cell_type": "code",
   "execution_count": null,
   "metadata": {
    "jupyter": {
     "outputs_hidden": false
    }
   },
   "outputs": [],
   "source": [
    "S['rx_1sps'] = S['rx'][:,::nSpS]"
   ]
  },
  {
   "cell_type": "markdown",
   "metadata": {},
   "source": [
    "## Plot Received Constellation"
   ]
  },
  {
   "cell_type": "code",
   "execution_count": null,
   "metadata": {},
   "outputs": [],
   "source": [
    "for n in range(0, SIG['nPol']):\n",
    "    plt.scatter(S['rx_1sps'][n].real, S['rx_1sps'][n].imag, s=0.1)\n",
    "    plt.title('IQ Constellation of the Received Symbols: pol-'+str(n+1))\n",
    "    plt.show()"
   ]
  },
  {
   "cell_type": "markdown",
   "metadata": {},
   "source": [
    "## Apply 1st-Stage CPE: Pilot-Based"
   ]
  },
  {
   "cell_type": "code",
   "execution_count": null,
   "metadata": {},
   "outputs": [],
   "source": [
    "S['rx_1sps'], DSP['CPE1'] = carrierPhaseEstimation(S['rx_1sps'],S['tx'],DSP['CPE1'])"
   ]
  },
  {
   "cell_type": "markdown",
   "metadata": {},
   "source": [
    "## Apply 2nd-Stage CPE: Blind-Phase Search"
   ]
  },
  {
   "cell_type": "code",
   "execution_count": null,
   "metadata": {},
   "outputs": [],
   "source": [
    "C = TX['QAM']['IQmap']\n",
    "if useCPE2:\n",
    "    S['rx_1sps'], DSP['CPE2'] = carrierPhaseEstimation(S['rx_1sps'],S['tx'],DSP['CPE2'],C)"
   ]
  },
  {
   "cell_type": "markdown",
   "metadata": {},
   "source": [
    "## Plot Laser Phase Noise"
   ]
  },
  {
   "cell_type": "code",
   "execution_count": null,
   "metadata": {},
   "outputs": [],
   "source": [
    "plt.plot(TX['LASER']['phaseNoise'][::nSpS],linewidth=0.5, label='Transmitted Laser Phase Noise' )\n",
    "plt.plot(-DSP['CPE1']['phi'][0],linewidth=0.5, label='Estimated Laser Phase Noise')\n",
    "plt.title('Estimated Laser Phase Noise at the Receiver')\n",
    "plt.legend()\n",
    "plt.show()"
   ]
  },
  {
   "cell_type": "markdown",
   "metadata": {},
   "source": [
    "## Remove DSP pilots"
   ]
  },
  {
   "cell_type": "code",
   "execution_count": null,
   "metadata": {},
   "outputs": [],
   "source": [
    "S['rx_1sps'], S['tx'] = pilotSymbols_rmv(S['rx_1sps'],S['tx'],DSP['CPE1']['PILOTS']['rate'],DSP['CPE1']['PILOTS']['pilotSequence'])[0:2]"
   ]
  },
  {
   "cell_type": "markdown",
   "metadata": {},
   "source": [
    "## Apply Symbol Demapper"
   ]
  },
  {
   "cell_type": "code",
   "execution_count": null,
   "metadata": {
    "jupyter": {
     "outputs_hidden": false
    }
   },
   "outputs": [],
   "source": [
    "C = TX['QAM']['IQmap']\n",
    "DSP['DEMAPPER'],S['tx'] = symDemapper(S['rx_1sps'],S['tx'],C,DSP['DEMAPPER'])"
   ]
  },
  {
   "cell_type": "markdown",
   "metadata": {},
   "source": [
    "## Performance Analysis"
   ]
  },
  {
   "cell_type": "code",
   "execution_count": null,
   "metadata": {},
   "outputs": [],
   "source": [
    "BER = np.zeros(SIG['nPol'])\n",
    "errPos = []\n",
    "EVM = np.zeros(SIG['nPol'])\n",
    "MI = np.zeros(SIG['nPol'])\n",
    "for n in range(0, SIG['nPol']):\n",
    "    BER[n], errPos_aux = BER_eval(DSP['DEMAPPER']['txBits'][n],DSP['DEMAPPER']['rxBits'][n])\n",
    "    errPos.append(errPos_aux)\n",
    "    EVM[n] = EVM_eval(S['rx_1sps'][n],S['tx'][n])\n",
    "    MI[n] = MI_eval(S['rx_1sps'][n],S['tx'][n],DSP['DEMAPPER']['C'][:,n],DSP['DEMAPPER']['N0'][n])"
   ]
  },
  {
   "cell_type": "markdown",
   "metadata": {},
   "source": [
    "## Plot Constellation after Demapping"
   ]
  },
  {
   "cell_type": "code",
   "execution_count": null,
   "metadata": {
    "jupyter": {
     "outputs_hidden": false
    }
   },
   "outputs": [],
   "source": [
    "for n in range(0, SIG['nPol']):\n",
    "    plt.scatter(S['rx_1sps'][n].real, S['rx_1sps'][n].imag, s=0.1)\n",
    "    plt.scatter(DSP['DEMAPPER']['C'][:,n].real, DSP['DEMAPPER']['C'][:,n].imag,s=50, marker='o', edgecolor='k', facecolor=(0,1,0,0))\n",
    "    plt.title('pol-'+str(n+1))\n",
    "    plt.show()"
   ]
  },
  {
   "cell_type": "markdown",
   "metadata": {},
   "source": [
    "## Print Results"
   ]
  },
  {
   "cell_type": "code",
   "execution_count": null,
   "metadata": {
    "jupyter": {
     "outputs_hidden": false
    }
   },
   "outputs": [],
   "source": [
    "parameters = ['BER', 'EVM', 'MI']\n",
    "columns = np.asarray([BER,EVM,MI])\n",
    "header = [f\"Polarization-{i}\" for i in range(1,SIG['nPol'] + 1)]\n",
    "\n",
    "print(tabulate(columns,headers=header,tablefmt= 'fancy_grid',showindex=parameters,numalign='right'))"
   ]
  },
  {
   "cell_type": "code",
   "execution_count": null,
   "metadata": {},
   "outputs": [],
   "source": []
  }
 ],
 "metadata": {
  "kernelspec": {
   "display_name": "Python 3",
   "language": "python",
   "name": "python3"
  },
  "language_info": {
   "codemirror_mode": {
    "name": "ipython",
    "version": 3
   },
   "file_extension": ".py",
   "mimetype": "text/x-python",
   "name": "python",
   "nbconvert_exporter": "python",
   "pygments_lexer": "ipython3",
   "version": "3.11.2"
  },
  "vscode": {
   "interpreter": {
    "hash": "77f5f6819218c87ab71e54e98f5ea7e8dfcdb703beed8e4298076c1ed92cfc11"
   }
  }
 },
 "nbformat": 4,
 "nbformat_minor": 4
}
